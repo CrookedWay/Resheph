{
 "cells": [
  {
   "cell_type": "markdown",
   "metadata": {},
   "source": [
    "<h1><center>Library Choices</center></h1>\n",
    "<hr>\n",
    "<h2><center><i>Wherein our brave author selects his tools, plays with his toys, and makes rash decisions.</i></h2></center>\n",
    "<h3>Overview</h3>\n",
    "<p>The purpose of this program is to create an aesthetically pleasing visualization of the spread of infectious diseases. I have chosen this topic due to the intersection of my interests and skills I've gained over my apprenticeship. To accomplish this, I have selected numerous python libraries I have experience with to start seeing where I need to focus my efforts.</p>"
   ]
  },
  {
   "cell_type": "markdown",
   "metadata": {},
   "source": [
    "<h2>Primary Computational Engine: GeoPandas and NumPy</h2>"
   ]
  },
  {
   "cell_type": "code",
   "execution_count": 2,
   "metadata": {
    "collapsed": true
   },
   "outputs": [],
   "source": [
    "import pandas as pd\n",
    "import geopandas\n",
    "\n",
    "\n"
   ]
  },
  {
   "cell_type": "markdown",
   "metadata": {},
   "source": [
    "<h2>FrontEnd Visualization: Folium</h2>"
   ]
  },
  {
   "cell_type": "markdown",
   "metadata": {},
   "source": [
    "<h2>Hosting Service: AWS EC2 Instance/Elastic Beanstalk</h2>"
   ]
  }
 ],
 "metadata": {
  "kernelspec": {
   "display_name": "Python 3",
   "language": "python",
   "name": "python3"
  },
  "language_info": {
   "codemirror_mode": {
    "name": "ipython",
    "version": 3
   },
   "file_extension": ".py",
   "mimetype": "text/x-python",
   "name": "python",
   "nbconvert_exporter": "python",
   "pygments_lexer": "ipython3",
   "version": "3.6.0"
  }
 },
 "nbformat": 4,
 "nbformat_minor": 2
}
