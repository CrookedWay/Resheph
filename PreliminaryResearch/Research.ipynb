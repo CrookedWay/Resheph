{
 "cells": [
  {
   "cell_type": "markdown",
   "metadata": {},
   "source": [
    "<h1><center>Research</center></h1>\n",
    "<hr>\n",
    "<h2><center><i>Wherein the author does due diligence, notate his findings, and refuses to understand scope.</i></h2></center>\n",
    "<h3>Overview</h3>\n",
    "<p>The purpose of this Notebook is to keep a record of research materials, be they website or physical copy.</p>"
   ]
  },
  {
   "cell_type": "markdown",
   "metadata": {},
   "source": [
    "<h2>Primary Sources: Books, Journal Articles, Etc.</h2>"
   ]
  },
  {
   "cell_type": "markdown",
   "metadata": {},
   "source": [
    "<h2>Primary Sources: Maps</h2>\n",
    "<h2>Public ArcGiS Maps</h2>\n",
    "<ul>\n",
    "<li><h3><a href=\"https://hub.arcgis.com/datasets/uneplive::vector-borne-disease-pathogen-observationsurl\">Vector-Borne Disease Pathogen Observations</a></h3></li>\n",
    "<li><h3><a href=\"https://hub.arcgis.com/datasets/matawa::forest-disease-damage-event\">Forest Disease Damage Event</a></h3></li>\n",
    "<li><h3><a href=\"https://hub.arcgis.com/datasets/lakecountyil::sti-rates?geometry=-89.111%2C42.211%2C-86.584%2C42.566\">Sexually Transmitted Infections in Michigan</a></h3></li>\n",
    "<li><h3><a href=\"https://hub.arcgis.com/datasets/geoplatform::hospitals-per-state\">Hospitals Per State</a></h3>\n",
    "</li>\n",
    "</ul>\n",
    "<hr>\n",
    "<h2>&bull; Observations</h2>\n",
    "<p>Little publically available data on how the diseases spread so far from scraping GiS services. It seems that most of these health maps track data on health outcomes (Survival, Dicharge Rate, Monetary Cost) vice source (Transmission, Vector, Spatial Correlaton). I believe this is actually a function of how little health epidemic type events occur in the current day and age. As my vocabulary for the topic grows, I should be able to perform more focused searches.</p>"
   ]
  },
  {
   "cell_type": "markdown",
   "metadata": {},
   "source": [
    "<h2>Primary Sources: Code Libraries</h2>\n",
    "<h2>Python Libraies</h2>\n",
    "<ul>\n",
    "<li><h3><a href=\"http://geopandas.org/\">GeoPandas</a></h3></li>\n",
    "<li><h3><a href=\"http://python-visualization.github.io/folium/docs-v0.5.0/\">Folium</a></h3></li>\n",
    "<li><h3><a href=\"https://docs.scipy.org/doc/numpy-dev/user/quickstart.html\">NumPy and SciPy</a></h3></li>\n",
    "<li><h3><a href=\"https://www.tensorflow.org/get_started/get_started\">TensorFlow</a></h3></li>\n",
    "</ul>"
   ]
  }
 ],
 "metadata": {
  "kernelspec": {
   "display_name": "Python 3",
   "language": "python",
   "name": "python3"
  },
  "language_info": {
   "codemirror_mode": {
    "name": "ipython",
    "version": 3
   },
   "file_extension": ".py",
   "mimetype": "text/x-python",
   "name": "python",
   "nbconvert_exporter": "python",
   "pygments_lexer": "ipython3",
   "version": "3.6.0"
  }
 },
 "nbformat": 4,
 "nbformat_minor": 2
}
